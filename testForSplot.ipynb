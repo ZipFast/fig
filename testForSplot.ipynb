{
 "cells": [
  {
   "cell_type": "code",
   "execution_count": 46,
   "metadata": {},
   "outputs": [],
   "source": [
    "from __future__ import print_function, division \n",
    "import torch\n",
    "import torch.nn as nn\n",
    "import torch.optim as optim\n",
    "from torch.utils.data import sampler\n",
    "import torchvision.datasets as dset\n",
    "import torchvision.transforms as T\n",
    "torch.set_default_tensor_type(torch.cuda.FloatTensor)\n",
    "import numpy as np\n",
    "\n",
    "import pandas as pd \n",
    "from torch.utils.data import Dataset, DataLoader \n",
    "from torchvision import transforms, utils\n",
    "import os\n",
    "import datetime \n",
    "import numpy as np \n",
    "import math\n",
    "\n",
    "##文件数据行为: x   y   z  time     ；表示一个坐标点的三个坐标分量和 采集时间 ，使用空格符分隔\n",
    "\n",
    "def pre(source, distance, diantance1):\n",
    "    f = open(source, \"r\")  # 源文件\n",
    "    fwrit = open(distance, \"a\")  # 卡2068\n",
    "    for s in f.readlines():\n",
    "        if len(s) == 1:\n",
    "            fwrit.write(s)\n",
    "        else:\n",
    "            s = s[:-1]\n",
    "            tem = s.split()\n",
    "            re = tem[1].split(':')[1] + \"\\t\" + tem[2].split(':')[1] + \"\\t\" + tem[3].split(':')[1] + \"\\t\" + tem[-2] + \"\\t\" + tem[-1] + \"\\n\"\n",
    "            # if tem[0] != \"2068\":\n",
    "            #     fwrit1.write(re)\n",
    "            # else:\n",
    "            if tem[0] == \"2068\":\n",
    "                fwrit.write(re)\n",
    "    f.close()\n",
    "    fwrit.close()\n",
    "\n",
    "\n",
    "def file_name(file_dir, target, target1):\n",
    "    path = [file_dir + '\\\\' + x for x in os.listdir(file_dir)]\n",
    "    for p in path:\n",
    "        if not os.path.isdir(p):\n",
    "            pre(p, target, target1)\n",
    "\n",
    "def split_data(splot):\n",
    "    \"\"\"\n",
    "    按照plot划分时间段\n",
    "    \"\"\"\n",
    "    state = \"D:\\\\fig\\\\data\\\\pre2068Static.txt\"\n",
    "    unrealize = \"D:\\\\fig\\\\data\\\\pre2068Unrealize.txt\"\n",
    "    Sactive = \"D:\\\\fig\\\\data\\\\pre2068Little.txt\"\n",
    "    Mactive = \"D:\\\\fig\\\\data\\\\pre2068LargeMove.txt\"\n",
    "    files = [state, unrealize, Sactive, Mactive]\n",
    "    mask = [0., 1., 2., 3.]\n",
    "    splotre = []\n",
    "    lable = [] \n",
    "    for index, file in enumerate(files):\n",
    "        f = open(file, \"r\")\n",
    "        mk = mask[index]\n",
    "\n",
    "        flag = False \n",
    "        start = ''\n",
    "        obj = [] \n",
    "        for s in f.readlines():\n",
    "            if len(s) <= 1:\n",
    "                continue\n",
    "            else:\n",
    "                \n",
    "                s = s[:-1]\n",
    "                seq = s.split(\"\\t\")\n",
    "                if flag == False :\n",
    "                    #本数据序列第一点的采集时间\n",
    "                    start = 0\n",
    "                    now = 0\n",
    "                    flag = True \n",
    "                # 当前点的采集时间\n",
    "                now = now + 1\n",
    "                subt = now - start \n",
    "                obj.append(np.asarray(seq[:3],dtype='float64'))\n",
    "            if subt > splot:\n",
    "                splotre.append(np.asarray(obj))\n",
    "                lable.append(mk)\n",
    "                obj.clear() \n",
    "                flag = False\n",
    "    splotre = np.asarray(splotre)\n",
    "    lable = np.asarray(lable)\n",
    "    return splotre, lable\n"
   ]
  },
  {
   "cell_type": "code",
   "execution_count": 47,
   "metadata": {},
   "outputs": [],
   "source": [
    "# 大幅度运动 原始数据源\n",
    "p = \"E:\\\\datacollect\\\\trian\\\\active\"\n",
    "# 数据预处理结果保存路径\n",
    "t = \"D:\\\\fig\\\\data\\\\pre2068LargeMove.txt\"  # 卡2068对应的数据，处理结果\n",
    "t1 = \"D:\\\\fig\\\\data\\\\preLargeMove.txt\"  # 其他卡的处理结果\n",
    "\n",
    "file_name(p, t, t1)\n",
    "p = \"E:\\\\datacollect\\\\trian\\\\little\"  # 原始数据源\n",
    "\n",
    "# 数据预处理结果保存路径\n",
    "t = \"D:\\\\fig\\\\data\\\\pre2068Little.txt\"  # 卡2068对应的数据，处理结果\n",
    "t1 = \"D:\\\\fig\\\\data\\\\preLittle.txt\"  # 其他卡的处理结果\n",
    "\n",
    "file_name(p, t, t1)\n",
    "p = \"E:\\\\datacollect\\\\trian\\\\static\"  # 原始数据源\n",
    "\n",
    "# 数据预处理结果保存路径\n",
    "t = \"D:\\\\fig\\\\data\\\\pre2068Static.txt\"  # 卡2068对应的数据，处理结果\n",
    "t1 = \"D:\\\\fig\\\\data\\\\preStatic.txt\"  # 其他卡的处理结果\n",
    "file_name(p, t, t1)\n",
    "# 无意识运动，如转身，手摆动\n",
    "p = \"E:\\\\datacollect\\\\trian\\\\unrealize\"  # 原始数据源\n",
    "# 数据预处理结果保存路径\n",
    "t = \"D:\\\\fig\\\\data\\\\pre2068Unrealize.txt\"  # 卡2068对应的数据，处理结果\n",
    "t1 = \"D:\\\\fig\\\\data\\\\preUnrealize.txt\"  # 其他卡的处理结果径\n",
    "file_name(p, t, t1)"
   ]
  },
  {
   "cell_type": "code",
   "execution_count": 48,
   "metadata": {},
   "outputs": [],
   "source": [
    "splotre, lable = split_data(39)"
   ]
  },
  {
   "cell_type": "code",
   "execution_count": 49,
   "metadata": {},
   "outputs": [
    {
     "data": {
      "text/plain": [
       "(14316, 40, 3)"
      ]
     },
     "execution_count": 49,
     "metadata": {},
     "output_type": "execute_result"
    }
   ],
   "source": [
    "splotre.shape"
   ]
  },
  {
   "cell_type": "code",
   "execution_count": 50,
   "metadata": {},
   "outputs": [
    {
     "data": {
      "text/plain": [
       "array([0., 0., 0., ..., 3., 3., 3.])"
      ]
     },
     "execution_count": 50,
     "metadata": {},
     "output_type": "execute_result"
    }
   ],
   "source": [
    "lable"
   ]
  },
  {
   "cell_type": "code",
   "execution_count": 51,
   "metadata": {},
   "outputs": [],
   "source": [
    "NUM_TRAIN = 10000\n",
    "index = list(range(splotre.shape[0]))\n",
    "np.random.shuffle(index)\n",
    "splotre = splotre[index]\n",
    "lable = lable[index]\n",
    "train_splot = splotre[:NUM_TRAIN-2000]\n",
    "train_lable = lable[:NUM_TRAIN-2000]\n",
    "val_splot = splotre[NUM_TRAIN-2000:NUM_TRAIN]\n",
    "val_lable = lable[NUM_TRAIN-2000:NUM_TRAIN]\n",
    "test_splot = splotre[NUM_TRAIN:]\n",
    "test_lable = lable[NUM_TRAIN:]\n"
   ]
  },
  {
   "cell_type": "code",
   "execution_count": 52,
   "metadata": {},
   "outputs": [],
   "source": [
    "class ToTensor(object):\n",
    "    def __call__(self, splot):\n",
    "        return torch.from_numpy(splot)\n",
    "    \n",
    "trans = T.Compose([\n",
    "    ToTensor()\n",
    "])\n",
    "\n",
    "class LocationDataset(Dataset):\n",
    "    def __init__(self, splotre, lable, transform = trans):\n",
    "        self.splotre = np.transpose(splotre, (0, 2, 1))\n",
    "        self.lable = lable \n",
    "        self.transform = transform \n",
    "    \n",
    "    def __len__(self):\n",
    "        return len(self.splotre)\n",
    "\n",
    "    def __getitem__(self, idx):\n",
    "        if torch.is_tensor(idx):\n",
    "            idx = idx.tolist()\n",
    "        \n",
    "        splot = self.splotre[idx] \n",
    "        lable = self.lable[idx]\n",
    "        tensor = trans(splot)\n",
    "        return tensor, lable\n",
    "train_dataset = LocationDataset(train_splot, train_lable)\n",
    "loader_train = DataLoader(train_dataset, batch_size=4, shuffle=True)\n",
    "val_dataset = LocationDataset(val_splot, val_lable)\n",
    "loader_val = DataLoader(val_dataset, batch_size=4, shuffle=True)\n"
   ]
  },
  {
   "cell_type": "code",
   "execution_count": 53,
   "metadata": {},
   "outputs": [
    {
     "data": {
      "text/plain": [
       "(tensor([[ 7.7856,  7.7856,  7.8788,  7.9546,  8.0755,  8.1062,  8.0640,  8.0472,\n",
       "           8.0293,  7.9833,  7.9463,  7.9639,  7.9797,  7.9382,  7.8982,  7.8982,\n",
       "           7.7359,  7.7359,  7.5967,  7.6432,  7.6567,  7.6709,  7.6385,  7.5533,\n",
       "           7.5533,  7.3564,  7.1504,  7.0107,  7.0107,  6.8070,  6.8070,  6.8070,\n",
       "           6.5104,  6.4002,  6.4002,  6.3222,  6.3222,  6.4277,  6.4277,  6.7324],\n",
       "         [-0.2280, -0.2280, -0.0449,  0.0774,  0.2339,  0.3820,  0.5518,  0.7447,\n",
       "           0.8922,  1.0084,  1.1890,  1.4166,  1.7023,  1.9468,  2.1057,  2.1057,\n",
       "           2.5540,  2.5540,  3.0870,  3.1682,  3.1500,  3.1608,  3.1754,  3.1769,\n",
       "           3.1769,  3.0609,  2.8859,  2.8103,  2.8103,  2.9043,  2.9043,  2.9043,\n",
       "           2.9438,  2.7693,  2.7693,  2.8304,  2.8304,  2.9444,  2.9444,  2.8688],\n",
       "         [ 1.5000,  1.5000,  1.5000,  1.5000,  1.5000,  1.5000,  1.5000,  1.5000,\n",
       "           1.5000,  1.5000,  1.5000,  1.5000,  1.5000,  1.5000,  1.5000,  1.5000,\n",
       "           1.5000,  1.5000,  1.5000,  1.5000,  1.5000,  1.5000,  1.5000,  1.5000,\n",
       "           1.5000,  1.5000,  1.5000,  1.5000,  1.5000,  1.5000,  1.5000,  1.5000,\n",
       "           1.5000,  1.5000,  1.5000,  1.5000,  1.5000,  1.5000,  1.5000,  1.5000]],\n",
       "        device='cpu', dtype=torch.float64), 3.0)"
      ]
     },
     "execution_count": 53,
     "metadata": {},
     "output_type": "execute_result"
    }
   ],
   "source": [
    "loader_val.dataset[2]"
   ]
  },
  {
   "cell_type": "code",
   "execution_count": 54,
   "metadata": {},
   "outputs": [],
   "source": [
    "def flatten(x):\n",
    "    N = x.shape[0] # read in N, C, H, W\n",
    "    return x.view(N, -1)  # \"flatten\" the C * H * W values into a single vector per image"
   ]
  },
  {
   "cell_type": "code",
   "execution_count": 55,
   "metadata": {},
   "outputs": [],
   "source": [
    "class Flatten(nn.Module):\n",
    "    def forward(self, x):\n",
    "        return flatten(x)"
   ]
  },
  {
   "cell_type": "code",
   "execution_count": 56,
   "metadata": {},
   "outputs": [
    {
     "name": "stdout",
     "output_type": "stream",
     "text": [
      "using device: cpu\n"
     ]
    }
   ],
   "source": [
    "USE_GPU = False\n",
    "\n",
    "dtype = torch.float32 # we will be using float throughout this tutorial\n",
    "\n",
    "if USE_GPU and torch.cuda.is_available():\n",
    "    device = torch.device('cuda')\n",
    "else:\n",
    "    device = torch.device('cpu')\n",
    "\n",
    "# Constant to control how frequently we print train loss\n",
    "print_every = 100\n",
    "\n",
    "print('using device:', device)"
   ]
  },
  {
   "cell_type": "code",
   "execution_count": 57,
   "metadata": {},
   "outputs": [],
   "source": [
    "import torch.nn.functional as F  # useful stateless functions\n",
    "def train_part34(model, optimizer, epochs=1):\n",
    "    \"\"\"\n",
    "    Train a model on CIFAR-10 using the PyTorch Module API.\n",
    "    \n",
    "    Inputs:\n",
    "    - model: A PyTorch Module giving the model to train.\n",
    "    - optimizer: An Optimizer object we will use to train the model\n",
    "    - epochs: (Optional) A Python integer giving the number of epochs to train for\n",
    "    \n",
    "    Returns: Nothing, but prints model accuracies during training.\n",
    "    \"\"\"\n",
    "    model = model.to(device=device)  # move the model parameters to CPU/GPU\n",
    "    for e in range(epochs):\n",
    "        for t, (x, y) in enumerate(loader_train):\n",
    "            model.train()  # put model to training mode\n",
    "            x = x.to(device=device, dtype=dtype)  # move to device, e.g. GPU\n",
    "            y = y.to(device=device, dtype=torch.long)\n",
    "\n",
    "            scores = model(x)\n",
    "            loss = F.cross_entropy(scores, y)\n",
    "\n",
    "            # Zero out all of the gradients for the variables which the optimizer\n",
    "            # will update.\n",
    "            optimizer.zero_grad()\n",
    "\n",
    "            # This is the backwards pass: compute the gradient of the loss with\n",
    "            # respect to each  parameter of the model.\n",
    "            loss.backward()\n",
    "\n",
    "            # Actually update the parameters of the model using the gradients\n",
    "            # computed by the backwards pass.\n",
    "            optimizer.step()\n",
    "\n",
    "            if t % print_every == 0:\n",
    "                print('Iteration %d, loss = %.4f' % (t, loss.item()))\n",
    "                check_accuracy_part34(loader_val, model)\n",
    "                print()"
   ]
  },
  {
   "cell_type": "code",
   "execution_count": 58,
   "metadata": {},
   "outputs": [],
   "source": [
    "def check_accuracy_part34(loader, model): \n",
    "    num_correct = 0\n",
    "    num_samples = 0\n",
    "    model.eval()  # set model to evaluation mode\n",
    "    with torch.no_grad():\n",
    "        for x, y in loader:\n",
    "            x = x.to(device=device, dtype=dtype)  # move to device, e.g. GPU\n",
    "            y = y.to(device=device, dtype=torch.long)\n",
    "            scores = model(x)\n",
    "            _, preds = scores.max(1)\n",
    "            num_correct += (preds == y).sum()\n",
    "            num_samples += preds.size(0)\n",
    "        acc = float(num_correct) / num_samples\n",
    "        print('Got %d / %d correct (%.2f)' % (num_correct, num_samples, 100 * acc))"
   ]
  },
  {
   "cell_type": "code",
   "execution_count": 60,
   "metadata": {},
   "outputs": [
    {
     "name": "stdout",
     "output_type": "stream",
     "text": [
      "Iteration 0, loss = 1.1203\n",
      "Got 438 / 2000 correct (21.90)\n",
      "\n",
      "Iteration 100, loss = 1.3549\n",
      "Got 467 / 2000 correct (23.35)\n",
      "\n",
      "Iteration 200, loss = 1.3341\n",
      "Got 619 / 2000 correct (30.95)\n",
      "\n",
      "Iteration 300, loss = 1.3121\n",
      "Got 961 / 2000 correct (48.05)\n",
      "\n",
      "Iteration 400, loss = 1.1175\n",
      "Got 1073 / 2000 correct (53.65)\n",
      "\n",
      "Iteration 500, loss = 1.1346\n",
      "Got 1214 / 2000 correct (60.70)\n",
      "\n",
      "Iteration 600, loss = 1.3494\n",
      "Got 1461 / 2000 correct (73.05)\n",
      "\n",
      "Iteration 700, loss = 1.3731\n",
      "Got 1087 / 2000 correct (54.35)\n",
      "\n",
      "Iteration 800, loss = 0.9733\n",
      "Got 1447 / 2000 correct (72.35)\n",
      "\n",
      "Iteration 900, loss = 0.7983\n",
      "Got 1597 / 2000 correct (79.85)\n",
      "\n",
      "Iteration 1000, loss = 0.7668\n",
      "Got 1486 / 2000 correct (74.30)\n",
      "\n",
      "Iteration 1100, loss = 0.6483\n",
      "Got 1369 / 2000 correct (68.45)\n",
      "\n",
      "Iteration 1200, loss = 0.7061\n",
      "Got 1546 / 2000 correct (77.30)\n",
      "\n",
      "Iteration 1300, loss = 0.4383\n",
      "Got 1554 / 2000 correct (77.70)\n",
      "\n",
      "Iteration 1400, loss = 0.8257\n",
      "Got 1626 / 2000 correct (81.30)\n",
      "\n",
      "Iteration 1500, loss = 0.8144\n",
      "Got 1488 / 2000 correct (74.40)\n",
      "\n",
      "Iteration 1600, loss = 0.3580\n",
      "Got 1606 / 2000 correct (80.30)\n",
      "\n",
      "Iteration 1700, loss = 0.5396\n",
      "Got 1692 / 2000 correct (84.60)\n",
      "\n",
      "Iteration 1800, loss = 0.3700\n",
      "Got 1653 / 2000 correct (82.65)\n",
      "\n",
      "Iteration 1900, loss = 0.3156\n",
      "Got 1662 / 2000 correct (83.10)\n",
      "\n"
     ]
    }
   ],
   "source": [
    "channel_1 = 32 \n",
    "channel_2 = 16\n",
    "learning_rate = 1e-4\n",
    "model = None \n",
    "optimizer = None \n",
    "\n",
    "model = nn.Sequential(\n",
    "    nn.Conv1d(3, 32, 3, stride = 1, padding = 1),\n",
    "    nn.ReLU(),\n",
    "    nn.Conv1d(32, 64, 2, stride = 2, padding = 5),\n",
    "    nn.ReLU(),\n",
    "    nn.Conv1d(64, 128, 5, stride = 1),\n",
    "    nn.ReLU(),\n",
    "    Flatten(),\n",
    "    nn.Linear(2688, 4)\n",
    ")\n",
    "optimizer = optim.SGD(model.parameters(), lr = learning_rate, momentum=0.9, nesterov = True)\n",
    "train_part34(model, optimizer)"
   ]
  },
  {
   "cell_type": "code",
   "execution_count": 61,
   "metadata": {},
   "outputs": [],
   "source": [
    "test_dataset = LocationDataset(test_splot, test_lable)\n",
    "loader_test = DataLoader(test_dataset)"
   ]
  },
  {
   "cell_type": "code",
   "execution_count": 62,
   "metadata": {},
   "outputs": [
    {
     "name": "stdout",
     "output_type": "stream",
     "text": [
      "Got 3767 / 4316 correct (87.28)\n",
      "查准率0.8862775690755995\n",
      "召回率0.8640155789922841\n",
      "F1分数0.8662025082711129\n",
      "混淆矩阵\n",
      "[[1215    5    0   38]\n",
      " [   1  950    2    0]\n",
      " [  19  201  554  191]\n",
      " [   7   71   14 1048]]\n",
      "\n"
     ]
    },
    {
     "data": {
      "text/plain": [
       "0.8862775690755995"
      ]
     },
     "execution_count": 62,
     "metadata": {},
     "output_type": "execute_result"
    }
   ],
   "source": [
    "def test(loader,model):\n",
    "    num_correct = 0 \n",
    "    num_samples = 0 \n",
    "    res = []\n",
    "    for x, y in loader:\n",
    "        x = x.to(device=device, dtype=dtype)\n",
    "        y = y.to(device=device, dtype=torch.long)\n",
    "        scores = model(x)\n",
    "        _, preds = scores.max(1)\n",
    "        num_correct += (preds == y).sum()\n",
    "        num_samples += preds.size(0)\n",
    "        res.append(preds.item())\n",
    "    acc = float(num_correct) / num_samples\n",
    "    print('Got %d / %d correct (%.2f)' % (num_correct, num_samples, 100 * acc))\n",
    "    return res\n",
    "\n",
    "\n",
    "res = test(loader_test,model)\n",
    "\n",
    "from sklearn import metrics\n",
    "\n",
    "def gradeOfClassifier():\n",
    "    P = metrics.precision_score(test_lable, res, average='macro')\n",
    "    R = metrics.recall_score(test_lable, res, average='macro')\n",
    "    # F1分数\n",
    "    F1 = metrics.f1_score(test_lable, res, average='weighted')\n",
    "    # 混淆矩阵\n",
    "    M = metrics.confusion_matrix(test_lable, res, labels=[0.0, 1.0, 2.0, 3.0])\n",
    "    print(\"查准率\" + str(P))\n",
    "    print(\"召回率\" + str(R))\n",
    "    print(\"F1分数\" + str(F1))\n",
    "    print(\"混淆矩阵\")\n",
    "    print(M)\n",
    "    print()\n",
    "    return P\n",
    "gradeOfClassifier()"
   ]
  },
  {
   "cell_type": "code",
   "execution_count": 63,
   "metadata": {},
   "outputs": [
    {
     "data": {
      "image/png": "[encoded data removed]",
      "text/plain": [
       "<Figure size 432x288 with 1 Axes>"
      ]
     },
     "metadata": {
      "needs_background": "light"
     },
     "output_type": "display_data"
    }
   ],
   "source": [
    "import matplotlib.pyplot as plt \n",
    "\n",
    "t = [10, 20, 30, 40, 50]\n",
    "acc = [91.3867,  90.8414, 91.7429, 97.4448, 93.3361]\n",
    "\n",
    "plt.plot(t, acc)\n",
    "\n",
    "plt.xlabel('时间间隔 t')\n",
    "plt.ylabel('查准率 acc') \n",
    "plt.title('查准率随时间间隔变化图')\n",
    "\n",
    "plt.show()"
   ]
  },
  {
   "cell_type": "code",
   "execution_count": 64,
   "metadata": {},
   "outputs": [],
   "source": [
    "from lys.filter.examples.sine_wave import kalmanfilter\n",
    "from lys.filter.movinAverage import MoveAverage\n",
    "from lys.filter.sampleFilter import last_polyfit\n",
    "from lys.evaluate import getMae, Mape, Rmse\n",
    "\n",
    "def classifer(model, splot, path):\n",
    "    resultSeqStatic = []  # 静止状态\n",
    "    resultSeqUnrealized = []  # 无意识运动状态\n",
    "    resultSeqBackMove = []  # 短距离往返运动\n",
    "    resultSeqforward = []  # 长距离往返运动\n",
    "    splotre = []\n",
    "    # 运动状态分析，与剔除\n",
    "    with open(path, 'r') as f:\n",
    "        obj = []\n",
    "        flag = False  # 是否第一次记录起始时间\n",
    "        start = ''  # 当前子序列的起始时间\n",
    "        for s in f.readlines():  # 按行读取数据\n",
    "            if len(s) <= 1:\n",
    "                continue\n",
    "            else:\n",
    "                \n",
    "                s = s[:-1]\n",
    "                seq = s.split(\" \")\n",
    "                if flag == False :\n",
    "                    #本数据序列第一点的采集时间\n",
    "                    start = 0\n",
    "                    now = 0\n",
    "                    flag = True \n",
    "                # 当前点的采集时间\n",
    "                now = now + 1\n",
    "                subt = now - start \n",
    "                myseq = [seq[1][7:], seq[2][7:], seq[3][7:]]\n",
    "                obj.append(np.asarray(myseq,dtype='float64'))\n",
    "            if subt > splot:\n",
    "                splotre.append(np.asarray(obj))\n",
    "                obj.clear() \n",
    "                flag = False\n",
    "    splotre = np.asarray(splotre)\n",
    "    for plot in splotre:\n",
    "        tensor = torch.FloatTensor(plot.T)\n",
    "        tensor = tensor.view((1,3,40))\n",
    "        scores = model(tensor)\n",
    "        _, state = scores.max(1)\n",
    "        if state.item() == 0:\n",
    "            resultSeqStatic += plot.tolist()\n",
    "        elif state.item() == 1:\n",
    "            resultSeqUnrealized += plot.tolist()\n",
    "        elif state.item() == 2:\n",
    "            resultSeqBackMove += plot.tolist()\n",
    "        elif state.item() == 3:\n",
    "            resultSeqforward += plot.tolist()\n",
    "    return resultSeqStatic, resultSeqUnrealized, resultSeqBackMove, resultSeqforward"
   ]
  },
  {
   "cell_type": "code",
   "execution_count": 65,
   "metadata": {},
   "outputs": [],
   "source": [
    "def countdistance(seq):\n",
    "    distance = 0.0\n",
    "    # 计算一个序列的运动距离\n",
    "    if len(seq) <= 1:  # 只有一个点时，距离为零\n",
    "        return distance\n",
    "    else:\n",
    "        p1 = seq[0]  # 轨迹的第一个点\n",
    "        for value in seq[1:]:\n",
    "            p2 = value\n",
    "            d = np.sqrt((float(p1[0]) - float(p2[0])) ** 2 + (float(p1[1]) - float(p2[1])) ** 2)  # 两点间的距离\n",
    "            if d < 2.0:\n",
    "                distance += d\n",
    "            p1 = p2\n",
    "        distance = float(\"%.2f\" % distance)\n",
    "        return distance\n",
    "\n",
    "\n",
    "# 卡尔曼滤波器\n",
    "def kalmanFilter(seq):\n",
    "    x_value = []\n",
    "    y_value = []\n",
    "    for i in range(len(seq)):\n",
    "        temp = seq[i]\n",
    "        x_value.append(float(temp[0]))\n",
    "        y_value.append(float(temp[1]))\n",
    "    x_value = kalmanfilter(x_value, len(x_value))  # 滤波\n",
    "\n",
    "    length = min(len(x_value), len(y_value))  # 数组长度\n",
    "    sequence = [[x_value[i], y_value[i]] for i in range(0, length)]\n",
    "    return sequence\n",
    "\n",
    "\n",
    "# 最小二乘法拟合多项式\n",
    "def leastfit(seq):\n",
    "    result = last_polyfit(seq)\n",
    "    return result\n",
    "\n",
    "\n",
    "def MovingAverage(seq):\n",
    "    obj = MoveAverage(seq, 11)  # 创建对象\n",
    "    result = obj.smooth()  # 平滑数据\n",
    "\n",
    "    return result\n"
   ]
  },
  {
   "cell_type": "code",
   "execution_count": 66,
   "metadata": {},
   "outputs": [
    {
     "data": {
      "text/plain": [
       "1621.87"
      ]
     },
     "execution_count": 66,
     "metadata": {},
     "output_type": "execute_result"
    }
   ],
   "source": [
    "dirPath = \"D:\\\\fig\\\\test\\\\data\"\n",
    "path = [dirPath + '\\\\' + x for x in os.listdir(dirPath)]\n",
    "resultSeqStatic, resultSeqUnrealized, resultSeqBackMove, resultSeqforward = classifer(model, 39, path[1])\n",
    "countdistance(resultSeqBackMove) + countdistance(resultSeqUnrealized) + countdistance(resultSeqforward)"
   ]
  },
  {
   "cell_type": "code",
   "execution_count": 67,
   "metadata": {},
   "outputs": [],
   "source": [
    "# 误差曲线图\n",
    "def main(slot, other=15):\n",
    "    dirPath = \"E:\\\\datacollect\\\\test\\\\data\"\n",
    "    path = [dirPath + '\\\\' + x for x in os.listdir(dirPath)]\n",
    "\n",
    "    # 分类其模型\n",
    "    # classfilter = getKnnClassifer(slot, other)\n",
    "\n",
    "    classfilter = getSvmClassifer(slot)\n",
    "\n",
    "    #\n",
    "    # classfilter = getMplClassifer(slot)\n",
    "    result = []\n",
    "    result1 = []\n",
    "    result2 = []\n",
    "    for p in path:\n",
    "        distance = 0.0  # 去除静止状态\n",
    "        distance1 = 0.0  # 除去静止状态和无意识状态后的轨迹的距离\n",
    "        distance2 = 0.0  # 除去静止状态后，在拟合处理数据的轨迹的距离\n",
    "        # 各状态下的轨迹\n",
    "        resultSeqStatic, resultSeqUnrealized, resultSeqBackMove, resultSeqforward = classifer(classfilter, slot, p)\n",
    "\n",
    "        # 除去静止状态后的轨迹的距离\n",
    "        distance = countdistance(resultSeqUnrealized) + countdistance(resultSeqBackMove) + countdistance(\n",
    "            resultSeqforward)\n",
    "\n",
    "        result.append(distance)\n",
    "\n",
    "        # 除去静止状态和无意识状态后的轨迹的距离\n",
    "        distance1 = countdistance(resultSeqBackMove) + countdistance(resultSeqforward)\n",
    "        result1.append(distance1)\n",
    "\n",
    "        # #除去静止状态后，在拟合处理数据的轨迹的距离\n",
    "        distance2 = countdistance(MovingAverage(resultSeqUnrealized)) + countdistance(\n",
    "            MovingAverage(resultSeqBackMove)) + countdistance(\n",
    "            MovingAverage(resultSeqforward))\n",
    "        result2.append(distance2)\n",
    "\n",
    "    return result, result1, result2"
   ]
  },
  {
   "cell_type": "code",
   "execution_count": 68,
   "metadata": {},
   "outputs": [],
   "source": [
    "# index=1  卡尔曼滤波\n",
    "# index=2  最小二乘\n",
    "# index=1  滑动均值\n",
    "def deal(index, seq):\n",
    "    if index == 1:\n",
    "        return kalmanFilter(seq)\n",
    "    elif index == 2:\n",
    "        return leastfit(seq)\n",
    "    elif index == 3:\n",
    "        return MovingAverage(seq)\n"
   ]
  },
  {
   "cell_type": "code",
   "execution_count": 70,
   "metadata": {},
   "outputs": [],
   "source": [
    "# value:真实值\n",
    "# 使用三种方法分别处理除静止之外的数据\n",
    "def main1(value, slot):\n",
    "    dirPath = \"D:\\\\项目\\\\廖煜胜-论文\\\\论文\\\\数据与程序\\\\datacollect\\\\test\\\\data\"\n",
    "    path = [dirPath + '\\\\' + x for x in os.listdir(dirPath)]\n",
    "\n",
    "    # 分类其模型\n",
    "    # classfilter = getKnnClassifer(slot, other)\n",
    "\n",
    "    # classfilter = getSvmClassifer(slot)\n",
    "\n",
    "    #\n",
    "    #classfilter = getMplClassifer(slot)\n",
    "    classfilter = model\n",
    "\n",
    "    print(\"无意识运动状态  \" + \"往返  \" + \"前行\")\n",
    "    m = 0\n",
    "    for i in [1, 2, 3]:\n",
    "        for j in [1, 2, 3]:\n",
    "            for k in [1, 2, 3]:\n",
    "                distance2 = 0.0  #\n",
    "                for p in path:\n",
    "                    # 各状态下的轨迹\n",
    "                    resultSeqStatic, resultSeqUnrealized, resultSeqBackMove, resultSeqforward = classifer(classfilter,\n",
    "                                                                                                          slot, p)\n",
    "                    # #除去静止状态后，在拟合处理数据的轨迹的距离\n",
    "                    d1 = countdistance(deal(i, resultSeqUnrealized))\n",
    "                    d2 = countdistance(deal(j, resultSeqBackMove))\n",
    "                    d3 = countdistance(deal(k, resultSeqforward))\n",
    "                    distance2 = distance2 + d1 + d2 + d3\n",
    "                if value[m] == 0.:\n",
    "                    continue\n",
    "                print(str(i) + \" \" + str(j) + \" \" + str(k) + \" \", end=\" \")\n",
    "                err = (distance2 - value[m]) / len(path)\n",
    "                print(\"误差\" + str(err), end=\" \")\n",
    "\n",
    "                e = (distance2 - value[m]) / value[m]\n",
    "                print(\"相对误差率\" + str(e))\n",
    "                print()\n",
    "                m += 1\n",
    "\n",
    "    return\n",
    "\n",
    "\n",
    "# 对不同状态的数据处理\n",
    "def fn(i, j, k, classfilter, slot, path):\n",
    "    re = []\n",
    "    for p in path:\n",
    "        # 各状态下的轨迹\n",
    "        resultSeqStatic, resultSeqUnrealized, resultSeqBackMove, resultSeqforward = classifer(classfilter,\n",
    "                                                                                              slot, p)\n",
    "        # #除去静止状态后，在拟合处理数据的轨迹的距离\n",
    "        d1 = countdistance(deal(i, resultSeqUnrealized))\n",
    "        d2 = countdistance(deal(j, resultSeqBackMove))\n",
    "        d3 = countdistance(deal(k, resultSeqforward))\n",
    "        distance2 = d1 + d2 + d3\n",
    "        re.append(distance2)\n",
    "    return re\n",
    "\n",
    "\n",
    "def draw2(title, measure, trueValue):\n",
    "    plt.figure(title)\n",
    "    x = [i for i in range(1, 13)]\n",
    "    plt.xlabel('轨迹序号', fontproperties='SimHei', fontsize=10)\n",
    "    plt.ylabel('轨迹长度(米)', fontproperties='SimHei', fontsize=10)\n",
    "    plt.title(title)\n",
    "\n",
    "    plt.plot(x, measure, marker='+', linestyle='--', label='1d-CNN')  # 计算值\n",
    "\n",
    "    plt.plot(x, trueValue, marker='o', linestyle='-', label='真实距离')  # 真值\n",
    "    plt.legend(loc='lower right')  # label生效\n",
    "    plt.xticks(x)\n",
    "    plt.show()"
   ]
  },
  {
   "cell_type": "code",
   "execution_count": null,
   "metadata": {},
   "outputs": [],
   "source": [
    "path = \"D:\\\\项目\\\\廖煜胜-论文\\\\论文\\\\数据与程序\\\\datacollect\\\\test\\\\truevalue.txt\"\n",
    "value = getvalue(path)  # 真值\n",
    "main1(value, 39)"
   ]
  },
  {
   "cell_type": "code",
   "execution_count": 78,
   "metadata": {},
   "outputs": [],
   "source": [
    "def main2(slot):\n",
    "    dirPath = \"D:\\\\项目\\\\廖煜胜-论文\\\\论文\\\\数据与程序\\\\datacollect\\\\test\\\\data\"\n",
    "    path = [dirPath + '\\\\' + x for x in os.listdir(dirPath)]\n",
    "    i = 2\n",
    "    j = 2\n",
    "    k = 1\n",
    "    re = fn(i, j, k, model, slot, path)\n",
    "\n",
    "    return re"
   ]
  },
  {
   "cell_type": "code",
   "execution_count": 79,
   "metadata": {},
   "outputs": [],
   "source": [
    "def getvalue(path):\n",
    "    f = open(path, \"r\")  # 源文件\n",
    "    result = []\n",
    "    for s in f.readlines():\n",
    "        num = float(s.split(\"  \")[1][:-1])\n",
    "        result.append(num)\n",
    "    return result\n",
    "\n",
    "\n",
    "# 求和\n",
    "def distanceofseq(value):\n",
    "    val_sum = 0\n",
    "    for i in range(len(value)):\n",
    "        val_sum += float(value[i])\n",
    "    return val_sum\n",
    "\n",
    "\n",
    "def SD(measure, value):\n",
    "    d = 0  # 标准差\n",
    "    err = 0  # 平均误差\n",
    "    sum_value = 0\n",
    "    sum_measure = 0\n",
    "    for i in range(len(value)):\n",
    "        d = d + (value[i] - measure[i]) ** 2\n",
    "        err += measure[i] - value[i]\n",
    "        sum_value += value[i]\n",
    "        sum_measure += measure[i]\n",
    "\n",
    "    d = np.sqrt(d) / len(value)\n",
    "    err = err / len(value)\n",
    "    ff = (sum_measure - sum_value) / sum_value\n",
    "\n",
    "    print(\"误差： \" + str(err))\n",
    "    print(\"相对误差率： \" + str(ff))\n",
    "    print(\"标准差： \" + str(d))\n",
    "    print()\n"
   ]
  },
  {
   "cell_type": "code",
   "execution_count": 80,
   "metadata": {},
   "outputs": [
    {
     "name": "stdout",
     "output_type": "stream",
     "text": [
      "平均绝对值误差：52.627500000000055\n",
      "\n",
      "平均相对误差：0.07513599776324857\n",
      "\n",
      "均方根差：210.8459605770684\n",
      "\n"
     ]
    }
   ],
   "source": [
    "path = \"D:\\\\项目\\\\廖煜胜-论文\\\\论文\\\\数据与程序\\\\datacollect\\\\test\\\\truevalue.txt\"\n",
    "value = getvalue(path)  # 真值\n",
    "measure = main2(39)\n",
    "getMae(measure, value)\n",
    "Mape(measure, value)\n",
    "Rmse(measure, value)"
   ]
  },
  {
   "cell_type": "code",
   "execution_count": 81,
   "metadata": {},
   "outputs": [
    {
     "data": {
      "image/png": "[encoded data removed]",
      "text/plain": [
       "<Figure size 432x288 with 1 Axes>"
      ]
     },
     "metadata": {
      "needs_background": "light"
     },
     "output_type": "display_data"
    }
   ],
   "source": [
    "import matplotlib.pyplot as plt\n",
    "draw2(\"draw\", measure, value)"
   ]
  },
  {
   "cell_type": "code",
   "execution_count": 82,
   "metadata": {},
   "outputs": [],
   "source": [
    "plt.rcParams['font.sans-serif']=['SimHei'] #用来正常显示中文标签\n",
    "plt.rcParams['axes.unicode_minus']=False #用来正常显示负号\n",
    "def draw4(title, measure, trueValue, label):\n",
    "    plt.figure(title)\n",
    "    x = [i for i in range(1, 13)]\n",
    "    plt.xlabel('轨迹序号', fontproperties='SimHei', fontsize=10)\n",
    "    plt.ylabel('轨迹长度（米）', fontproperties='SimHei', fontsize=10)\n",
    "    plt.title(\"计算值与真实值对比\")\n",
    "\n",
    "    plt.subplots_adjust(bottom=0.15)  # 图边距t\n",
    "    plt.subplots_adjust(left=0.15)\n",
    "    plt.xticks(x)\n",
    "    for i in range(1, len(x)):\n",
    "        d = ((measure[i] - trueValue[i]) / trueValue[i]) * 100\n",
    "        text = float(\"%.2f\" % d)\n",
    "        plt.text(x[i] - 0.4, measure[i] + 30, str(text) + \"%\", fontdict={'size': '10'})\n",
    "\n",
    "    plt.plot(x, measure, marker='*', linestyle='-.', label=label)  # 计算值\n",
    "    plt.plot(x, trueValue, marker='o', linestyle='-', label='真实值')  # 真值\n",
    "    plt.legend(loc='lower right')  # label生效\n",
    "    plt.savefig(\"D:\\\\fig\\\\picture\\\\\" + str(title) + \".png\")"
   ]
  },
  {
   "cell_type": "code",
   "execution_count": 83,
   "metadata": {},
   "outputs": [
    {
     "data": {
      "image/png": "[encoded data removed]",
      "text/plain": [
       "<Figure size 432x288 with 1 Axes>"
      ]
     },
     "metadata": {
      "needs_background": "light"
     },
     "output_type": "display_data"
    }
   ],
   "source": [
    "draw4(\"1d-cnn\", measure, value, \"1d-cnn\")"
   ]
  },
  {
   "cell_type": "code",
   "execution_count": null,
   "metadata": {},
   "outputs": [],
   "source": []
  }
 ],
 "metadata": {
  "kernelspec": {
   "display_name": "Python 3",
   "language": "python",
   "name": "python3"
  },
  "language_info": {
   "codemirror_mode": {
    "name": "ipython",
    "version": 3
   },
   "file_extension": ".py",
   "mimetype": "text/x-python",
   "name": "python",
   "nbconvert_exporter": "python",
   "pygments_lexer": "ipython3",
   "version": "3.7.3"
  }
 },
 "nbformat": 4,
 "nbformat_minor": 2
}
